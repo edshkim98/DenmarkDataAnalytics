{
 "cells": [
  {
   "cell_type": "markdown",
   "metadata": {},
   "source": [
    "# Coursework: Climate data analysis"
   ]
  },
  {
   "cell_type": "code",
   "execution_count": 1,
   "metadata": {
    "scrolled": false
   },
   "outputs": [],
   "source": [
    "# python packages needed. You can, of course, use others if you need them.\n",
    "\n",
    "import numpy as np\n",
    "import pandas as pd\n",
    "import matplotlib.pyplot as plt\n",
    "import seaborn as sn\n",
    "import scipy\n",
    "from sklearn.metrics import mean_squared_error, mean_absolute_error"
   ]
  },
  {
   "cell_type": "markdown",
   "metadata": {},
   "source": [
    "## TASK I - Preliminary analysis"
   ]
  },
  {
   "cell_type": "markdown",
   "metadata": {},
   "source": [
    "**a. Import the `weather-denmark-resampled.pkl` dataset  provided  in  the  folderand explore  the dataset by answering the following questions.**"
   ]
  },
  {
   "cell_type": "code",
   "execution_count": 2,
   "metadata": {},
   "outputs": [
    {
     "data": {
      "text/plain": [
       "MultiIndex([( 'Aalborg',      'Temp'),\n",
       "            ( 'Aalborg',  'Pressure'),\n",
       "            ( 'Aalborg', 'WindSpeed'),\n",
       "            ( 'Aalborg',   'WindDir'),\n",
       "            (  'Aarhus',      'Temp'),\n",
       "            (  'Aarhus',  'Pressure'),\n",
       "            (  'Aarhus', 'WindSpeed'),\n",
       "            (  'Aarhus',   'WindDir'),\n",
       "            ( 'Esbjerg',      'Temp'),\n",
       "            ( 'Esbjerg',  'Pressure'),\n",
       "            ( 'Esbjerg', 'WindSpeed'),\n",
       "            ( 'Esbjerg',   'WindDir'),\n",
       "            (  'Odense',      'Temp'),\n",
       "            (  'Odense',  'Pressure'),\n",
       "            (  'Odense', 'WindSpeed'),\n",
       "            (  'Odense',   'WindDir'),\n",
       "            ('Roskilde',      'Temp'),\n",
       "            ('Roskilde',  'Pressure'),\n",
       "            ('Roskilde', 'WindSpeed'),\n",
       "            ('Roskilde',   'WindDir')],\n",
       "           )"
      ]
     },
     "execution_count": 2,
     "metadata": {},
     "output_type": "execute_result"
    }
   ],
   "source": [
    "################################### \n",
    "# i.How many cities are there in the dataset?\n",
    "data = pd.read_pickle(r'./weather-denmark-resampled.pkl')\n",
    "data.columns\n",
    "#5 cities \n",
    "###################################"
   ]
  },
  {
   "cell_type": "code",
   "execution_count": 3,
   "metadata": {},
   "outputs": [],
   "source": [
    "###############################\n",
    "# ii.How many observations and features are there in this dataset?\n",
    "len(data.columns)\n",
    "features = len(data.columns)/5\n",
    "row = data.count(axis='columns')\n",
    "#333110 observations and 4 features\n",
    "###############################"
   ]
  },
  {
   "cell_type": "code",
   "execution_count": 4,
   "metadata": {},
   "outputs": [
    {
     "data": {
      "text/plain": [
       "['Temp', 'Pressure', 'WindSpeed', 'WindDir']"
      ]
     },
     "execution_count": 4,
     "metadata": {},
     "output_type": "execute_result"
    }
   ],
   "source": [
    "###############################\n",
    "# iii.What are the names of the different features?\n",
    "result = []\n",
    "a = range(len(data.columns))\n",
    "for i in a:\n",
    "    if data.columns[i][1] in result:\n",
    "        result\n",
    "    else:\n",
    "        result.append(data.columns[i][1])\n",
    "result\n",
    "###############################"
   ]
  },
  {
   "cell_type": "markdown",
   "metadata": {},
   "source": [
    "**b. Now that you got confident with the dataset, evaluate if the dataset contains anymissing values? If so, then remove them using the pandas built-in function.**\n",
    "\n"
   ]
  },
  {
   "cell_type": "code",
   "execution_count": 5,
   "metadata": {},
   "outputs": [
    {
     "ename": "SyntaxError",
     "evalue": "invalid syntax (<ipython-input-5-9276f3f61afa>, line 5)",
     "output_type": "error",
     "traceback": [
      "\u001b[1;36m  File \u001b[1;32m\"<ipython-input-5-9276f3f61afa>\"\u001b[1;36m, line \u001b[1;32m5\u001b[0m\n\u001b[1;33m    data_noNull.\u001b[0m\n\u001b[1;37m                ^\u001b[0m\n\u001b[1;31mSyntaxError\u001b[0m\u001b[1;31m:\u001b[0m invalid syntax\n"
     ]
    }
   ],
   "source": [
    "###########################\n",
    "\n",
    "pd.notnull(data)\n",
    "data_noNull = data.dropna(axis = 0)\n",
    "data_noNull.\n",
    "###########################"
   ]
  },
  {
   "cell_type": "markdown",
   "metadata": {},
   "source": [
    "**c. Extract the general statistical properties summarising the minimum, maximum, median, mean and standard deviation values for all the features in the dataset. Spot any anomalies in these properties and clearly explain why you classify them as anomalies.**"
   ]
  },
  {
   "cell_type": "code",
   "execution_count": 6,
   "metadata": {},
   "outputs": [
    {
     "ename": "NameError",
     "evalue": "name 'data_noNull' is not defined",
     "output_type": "error",
     "traceback": [
      "\u001b[1;31m---------------------------------------------------------------------------\u001b[0m",
      "\u001b[1;31mNameError\u001b[0m                                 Traceback (most recent call last)",
      "\u001b[1;32m<ipython-input-6-4ed518c402a2>\u001b[0m in \u001b[0;36m<module>\u001b[1;34m\u001b[0m\n\u001b[0;32m      1\u001b[0m \u001b[1;31m###########################\u001b[0m\u001b[1;33m\u001b[0m\u001b[1;33m\u001b[0m\u001b[1;33m\u001b[0m\u001b[0m\n\u001b[1;32m----> 2\u001b[1;33m \u001b[0mminimum\u001b[0m \u001b[1;33m=\u001b[0m \u001b[0mnp\u001b[0m\u001b[1;33m.\u001b[0m\u001b[0mamin\u001b[0m\u001b[1;33m(\u001b[0m\u001b[0mdata_noNull\u001b[0m\u001b[1;33m)\u001b[0m\u001b[1;33m\u001b[0m\u001b[1;33m\u001b[0m\u001b[0m\n\u001b[0m\u001b[0;32m      3\u001b[0m \u001b[0mmaximum\u001b[0m \u001b[1;33m=\u001b[0m \u001b[0mnp\u001b[0m\u001b[1;33m.\u001b[0m\u001b[0mamax\u001b[0m\u001b[1;33m(\u001b[0m\u001b[0mdata_noNull\u001b[0m\u001b[1;33m)\u001b[0m\u001b[1;33m\u001b[0m\u001b[1;33m\u001b[0m\u001b[0m\n\u001b[0;32m      4\u001b[0m \u001b[0mmedian\u001b[0m \u001b[1;33m=\u001b[0m \u001b[0mnp\u001b[0m\u001b[1;33m.\u001b[0m\u001b[0mmedian\u001b[0m\u001b[1;33m(\u001b[0m\u001b[0mdata_noNull\u001b[0m\u001b[1;33m,\u001b[0m \u001b[0maxis\u001b[0m\u001b[1;33m=\u001b[0m\u001b[1;36m0\u001b[0m\u001b[1;33m)\u001b[0m\u001b[1;33m\u001b[0m\u001b[1;33m\u001b[0m\u001b[0m\n\u001b[0;32m      5\u001b[0m \u001b[0mmean\u001b[0m \u001b[1;33m=\u001b[0m \u001b[0mnp\u001b[0m\u001b[1;33m.\u001b[0m\u001b[0mmean\u001b[0m\u001b[1;33m(\u001b[0m\u001b[0mdata_noNull\u001b[0m\u001b[1;33m)\u001b[0m\u001b[1;33m\u001b[0m\u001b[1;33m\u001b[0m\u001b[0m\n",
      "\u001b[1;31mNameError\u001b[0m: name 'data_noNull' is not defined"
     ]
    }
   ],
   "source": [
    "###########################\n",
    "minimum = np.amin(data_noNull)\n",
    "maximum = np.amax(data_noNull)\n",
    "median = np.median(data_noNull, axis=0)\n",
    "mean = np.mean(data_noNull)\n",
    "std = np.std(data_noNull)\n",
    "a = [minimum,maximum,median,mean,std]\n",
    "for i in a:\n",
    "    print(i)\n",
    "#Anomlies\n",
    "#1. Max windspeed of odesnse which hits 62.521795, while the mean of windspeed in other regions excluding odesnse is 32.6 which\n",
    "#means that odesnse is off by almost 100%\n",
    "#2. Max temperature of Esbjerg and odesnse which hits 54 and 49.9 respectively.\n",
    "#3. Mean of windspeed in Aarhus which records 4.033814 while the other regions are above 4.8 (average 4.858 excluding Aarhus).\n",
    "#The means that it is off by more than 20%.\n",
    "###########################"
   ]
  },
  {
   "cell_type": "markdown",
   "metadata": {},
   "source": [
    "## TASK II - OUTLIERS\n",
    "\n",
    "The second task is focused on spotting and overcoming outliers. Follow the instructions in the following:"
   ]
  },
  {
   "cell_type": "markdown",
   "metadata": {},
   "source": [
    "**d. Store the temperature measurements in May 2006 for the city of Odense. Then produce a simple plot of the temperature versus time.**\n",
    "\n",
    "*HINT: In this dataset, the cities are vertically stacked. Therefore, we have a multi column dataset, which basically works as a nested dictionary.*\n"
   ]
  },
  {
   "cell_type": "markdown",
   "metadata": {},
   "source": [
    "**e. Find the outliers in this set of measurements (if any) and replace them using linear interpolation.**"
   ]
  },
  {
   "cell_type": "markdown",
   "metadata": {},
   "source": [
    "## TASK III.1 - CORRELATION\n",
    "\n",
    "In this last task, you will be seeking correlation between features of the data and inferring hidden patterns.  For  this  task,  you  will  be  working  with  a  smaller  dataset.  Follow  the  instructions  in  the following:"
   ]
  },
  {
   "cell_type": "markdown",
   "metadata": {},
   "source": [
    "**f. We  now  take  a new  dataset (`df_perth.pkl`),  which  collects  climate  data  of  a  city  in Australia. Here we have just one year of measurements, but more features.**"
   ]
  },
  {
   "cell_type": "code",
   "execution_count": 34,
   "metadata": {},
   "outputs": [
    {
     "data": {
      "text/html": [
       "<div>\n",
       "<style scoped>\n",
       "    .dataframe tbody tr th:only-of-type {\n",
       "        vertical-align: middle;\n",
       "    }\n",
       "\n",
       "    .dataframe tbody tr th {\n",
       "        vertical-align: top;\n",
       "    }\n",
       "\n",
       "    .dataframe thead th {\n",
       "        text-align: right;\n",
       "    }\n",
       "</style>\n",
       "<table border=\"1\" class=\"dataframe\">\n",
       "  <thead>\n",
       "    <tr style=\"text-align: right;\">\n",
       "      <th></th>\n",
       "      <th>temp</th>\n",
       "      <th>pressure</th>\n",
       "      <th>relative humidity</th>\n",
       "      <th>wind speed</th>\n",
       "      <th>cloud cover</th>\n",
       "      <th>precipitation</th>\n",
       "      <th>PV production</th>\n",
       "      <th>diffuse radiation, tilt</th>\n",
       "      <th>solar azimuth</th>\n",
       "    </tr>\n",
       "    <tr>\n",
       "      <th>DateTime</th>\n",
       "      <th></th>\n",
       "      <th></th>\n",
       "      <th></th>\n",
       "      <th></th>\n",
       "      <th></th>\n",
       "      <th></th>\n",
       "      <th></th>\n",
       "      <th></th>\n",
       "      <th></th>\n",
       "    </tr>\n",
       "  </thead>\n",
       "  <tbody>\n",
       "    <tr>\n",
       "      <td>2005-01-01 00:00:00</td>\n",
       "      <td>24.7</td>\n",
       "      <td>1015</td>\n",
       "      <td>68</td>\n",
       "      <td>3.3</td>\n",
       "      <td>0</td>\n",
       "      <td>0.0</td>\n",
       "      <td>0</td>\n",
       "      <td>0</td>\n",
       "      <td>-2.5</td>\n",
       "    </tr>\n",
       "    <tr>\n",
       "      <td>2005-01-01 01:00:00</td>\n",
       "      <td>23.7</td>\n",
       "      <td>1015</td>\n",
       "      <td>73</td>\n",
       "      <td>2.8</td>\n",
       "      <td>0</td>\n",
       "      <td>0.0</td>\n",
       "      <td>0</td>\n",
       "      <td>0</td>\n",
       "      <td>-19.1</td>\n",
       "    </tr>\n",
       "    <tr>\n",
       "      <td>2005-01-01 02:00:00</td>\n",
       "      <td>23.1</td>\n",
       "      <td>1015</td>\n",
       "      <td>70</td>\n",
       "      <td>3.3</td>\n",
       "      <td>0</td>\n",
       "      <td>0.0</td>\n",
       "      <td>0</td>\n",
       "      <td>0</td>\n",
       "      <td>-33.4</td>\n",
       "    </tr>\n",
       "    <tr>\n",
       "      <td>2005-01-01 03:00:00</td>\n",
       "      <td>22.5</td>\n",
       "      <td>1015</td>\n",
       "      <td>76</td>\n",
       "      <td>3.6</td>\n",
       "      <td>0</td>\n",
       "      <td>0.0</td>\n",
       "      <td>0</td>\n",
       "      <td>0</td>\n",
       "      <td>-45.5</td>\n",
       "    </tr>\n",
       "    <tr>\n",
       "      <td>2005-01-01 04:00:00</td>\n",
       "      <td>22.0</td>\n",
       "      <td>1015</td>\n",
       "      <td>75</td>\n",
       "      <td>2.6</td>\n",
       "      <td>0</td>\n",
       "      <td>0.0</td>\n",
       "      <td>0</td>\n",
       "      <td>0</td>\n",
       "      <td>-55.4</td>\n",
       "    </tr>\n",
       "    <tr>\n",
       "      <td>...</td>\n",
       "      <td>...</td>\n",
       "      <td>...</td>\n",
       "      <td>...</td>\n",
       "      <td>...</td>\n",
       "      <td>...</td>\n",
       "      <td>...</td>\n",
       "      <td>...</td>\n",
       "      <td>...</td>\n",
       "      <td>...</td>\n",
       "    </tr>\n",
       "    <tr>\n",
       "      <td>2005-12-31 19:00:00</td>\n",
       "      <td>23.7</td>\n",
       "      <td>1013</td>\n",
       "      <td>47</td>\n",
       "      <td>6.9</td>\n",
       "      <td>1</td>\n",
       "      <td>0.0</td>\n",
       "      <td>1</td>\n",
       "      <td>1</td>\n",
       "      <td>61.1</td>\n",
       "    </tr>\n",
       "    <tr>\n",
       "      <td>2005-12-31 20:00:00</td>\n",
       "      <td>21.1</td>\n",
       "      <td>1013</td>\n",
       "      <td>61</td>\n",
       "      <td>6.0</td>\n",
       "      <td>1</td>\n",
       "      <td>0.0</td>\n",
       "      <td>0</td>\n",
       "      <td>0</td>\n",
       "      <td>52.2</td>\n",
       "    </tr>\n",
       "    <tr>\n",
       "      <td>2005-12-31 21:00:00</td>\n",
       "      <td>18.5</td>\n",
       "      <td>1013</td>\n",
       "      <td>75</td>\n",
       "      <td>4.2</td>\n",
       "      <td>1</td>\n",
       "      <td>0.0</td>\n",
       "      <td>0</td>\n",
       "      <td>0</td>\n",
       "      <td>41.4</td>\n",
       "    </tr>\n",
       "    <tr>\n",
       "      <td>2005-12-31 22:00:00</td>\n",
       "      <td>16.0</td>\n",
       "      <td>1013</td>\n",
       "      <td>83</td>\n",
       "      <td>3.5</td>\n",
       "      <td>1</td>\n",
       "      <td>0.0</td>\n",
       "      <td>0</td>\n",
       "      <td>0</td>\n",
       "      <td>28.5</td>\n",
       "    </tr>\n",
       "    <tr>\n",
       "      <td>2005-12-31 23:00:00</td>\n",
       "      <td>13.4</td>\n",
       "      <td>1013</td>\n",
       "      <td>100</td>\n",
       "      <td>3.5</td>\n",
       "      <td>1</td>\n",
       "      <td>0.0</td>\n",
       "      <td>0</td>\n",
       "      <td>0</td>\n",
       "      <td>13.3</td>\n",
       "    </tr>\n",
       "  </tbody>\n",
       "</table>\n",
       "<p>8760 rows × 9 columns</p>\n",
       "</div>"
      ],
      "text/plain": [
       "                     temp  pressure  relative humidity  wind speed  \\\n",
       "DateTime                                                             \n",
       "2005-01-01 00:00:00  24.7      1015                 68         3.3   \n",
       "2005-01-01 01:00:00  23.7      1015                 73         2.8   \n",
       "2005-01-01 02:00:00  23.1      1015                 70         3.3   \n",
       "2005-01-01 03:00:00  22.5      1015                 76         3.6   \n",
       "2005-01-01 04:00:00  22.0      1015                 75         2.6   \n",
       "...                   ...       ...                ...         ...   \n",
       "2005-12-31 19:00:00  23.7      1013                 47         6.9   \n",
       "2005-12-31 20:00:00  21.1      1013                 61         6.0   \n",
       "2005-12-31 21:00:00  18.5      1013                 75         4.2   \n",
       "2005-12-31 22:00:00  16.0      1013                 83         3.5   \n",
       "2005-12-31 23:00:00  13.4      1013                100         3.5   \n",
       "\n",
       "                     cloud cover  precipitation  PV production  \\\n",
       "DateTime                                                         \n",
       "2005-01-01 00:00:00            0            0.0              0   \n",
       "2005-01-01 01:00:00            0            0.0              0   \n",
       "2005-01-01 02:00:00            0            0.0              0   \n",
       "2005-01-01 03:00:00            0            0.0              0   \n",
       "2005-01-01 04:00:00            0            0.0              0   \n",
       "...                          ...            ...            ...   \n",
       "2005-12-31 19:00:00            1            0.0              1   \n",
       "2005-12-31 20:00:00            1            0.0              0   \n",
       "2005-12-31 21:00:00            1            0.0              0   \n",
       "2005-12-31 22:00:00            1            0.0              0   \n",
       "2005-12-31 23:00:00            1            0.0              0   \n",
       "\n",
       "                     diffuse radiation, tilt  solar azimuth  \n",
       "DateTime                                                     \n",
       "2005-01-01 00:00:00                        0           -2.5  \n",
       "2005-01-01 01:00:00                        0          -19.1  \n",
       "2005-01-01 02:00:00                        0          -33.4  \n",
       "2005-01-01 03:00:00                        0          -45.5  \n",
       "2005-01-01 04:00:00                        0          -55.4  \n",
       "...                                      ...            ...  \n",
       "2005-12-31 19:00:00                        1           61.1  \n",
       "2005-12-31 20:00:00                        0           52.2  \n",
       "2005-12-31 21:00:00                        0           41.4  \n",
       "2005-12-31 22:00:00                        0           28.5  \n",
       "2005-12-31 23:00:00                        0           13.3  \n",
       "\n",
       "[8760 rows x 9 columns]"
      ]
     },
     "execution_count": 34,
     "metadata": {},
     "output_type": "execute_result"
    }
   ],
   "source": [
    "#################################\n",
    "data = pd.read_pickle(r'./df_perth.pkl')\n",
    "data\n",
    "\n",
    "#################################"
   ]
  },
  {
   "cell_type": "markdown",
   "metadata": {},
   "source": [
    "**g. Find any significant correlations between features.**\n",
    "\n",
    "*HINT: you might find useful looking fortrends and recurrent patterns within the data*"
   ]
  },
  {
   "cell_type": "code",
   "execution_count": 35,
   "metadata": {},
   "outputs": [
    {
     "name": "stdout",
     "output_type": "stream",
     "text": [
      "                             temp  pressure  relative humidity  wind speed  \\\n",
      "temp                     1.000000 -0.000713          -0.761345    0.343214   \n",
      "pressure                -0.000713  1.000000          -0.253514    0.007968   \n",
      "relative humidity       -0.761345 -0.253514           1.000000   -0.340895   \n",
      "wind speed               0.343214  0.007968          -0.340895    1.000000   \n",
      "cloud cover             -0.090391 -0.782275           0.272694   -0.060845   \n",
      "precipitation           -0.062609 -0.245895           0.175913   -0.011236   \n",
      "PV production            0.529136  0.162544          -0.646227    0.249162   \n",
      "diffuse radiation, tilt  0.440259 -0.216266          -0.459441    0.194775   \n",
      "solar azimuth            0.360599 -0.001735          -0.428187    0.269784   \n",
      "\n",
      "                         cloud cover  precipitation  PV production  \\\n",
      "temp                       -0.090391      -0.062609       0.529136   \n",
      "pressure                   -0.782275      -0.245895       0.162544   \n",
      "relative humidity           0.272694       0.175913      -0.646227   \n",
      "wind speed                 -0.060845      -0.011236       0.249162   \n",
      "cloud cover                 1.000000       0.248765      -0.181765   \n",
      "precipitation               0.248765       1.000000      -0.068143   \n",
      "PV production              -0.181765      -0.068143       1.000000   \n",
      "diffuse radiation, tilt     0.258931      -0.002506       0.742691   \n",
      "solar azimuth              -0.010382       0.014081       0.034108   \n",
      "\n",
      "                         diffuse radiation, tilt  solar azimuth  \n",
      "temp                                    0.440259       0.360599  \n",
      "pressure                               -0.216266      -0.001735  \n",
      "relative humidity                      -0.459441      -0.428187  \n",
      "wind speed                              0.194775       0.269784  \n",
      "cloud cover                             0.258931      -0.010382  \n",
      "precipitation                          -0.002506       0.014081  \n",
      "PV production                           0.742691       0.034108  \n",
      "diffuse radiation, tilt                 1.000000       0.044362  \n",
      "solar azimuth                           0.044362       1.000000  \n"
     ]
    },
    {
     "data": {
      "text/plain": [
       "<matplotlib.axes._subplots.AxesSubplot at 0x17fbac32c48>"
      ]
     },
     "execution_count": 35,
     "metadata": {},
     "output_type": "execute_result"
    },
    {
     "data": {
      "image/png": "[encoded data removed]",
      "text/plain": [
       "<Figure size 432x288 with 2 Axes>"
      ]
     },
     "metadata": {
      "needs_background": "light"
     },
     "output_type": "display_data"
    }
   ],
   "source": [
    "#################################\n",
    "#plt.matshow(data.corr())\n",
    "#plt.show()\n",
    "import seaborn as sns\n",
    "corr = data.corr(method='pearson')\n",
    "print(corr)\n",
    "sns.heatmap(corr, xticklabels= corr.columns, yticklabels = corr.columns)\n",
    "#################################"
   ]
  },
  {
   "cell_type": "markdown",
   "metadata": {},
   "source": [
    "**h. We now focus on the correlation between precipitation and cloud cover. We want to infer the probability of having moderate to heavy rain (> 1 mm/h) as a function of the cloud cover index.**\n",
    "\n",
    "*HINT: you might find useful to create a new column where you have 0 if precipitation < 1 mm/h and 1 otherwise*"
   ]
  },
  {
   "cell_type": "code",
   "execution_count": 89,
   "metadata": {},
   "outputs": [
    {
     "ename": "KeyError",
     "evalue": "'precipitation'",
     "output_type": "error",
     "traceback": [
      "\u001b[1;31m---------------------------------------------------------------------------\u001b[0m",
      "\u001b[1;31mKeyError\u001b[0m                                  Traceback (most recent call last)",
      "\u001b[1;32m~\\Anaconda3\\lib\\site-packages\\pandas\\core\\indexes\\base.py\u001b[0m in \u001b[0;36mget_loc\u001b[1;34m(self, key, method, tolerance)\u001b[0m\n\u001b[0;32m   2896\u001b[0m             \u001b[1;32mtry\u001b[0m\u001b[1;33m:\u001b[0m\u001b[1;33m\u001b[0m\u001b[1;33m\u001b[0m\u001b[0m\n\u001b[1;32m-> 2897\u001b[1;33m                 \u001b[1;32mreturn\u001b[0m \u001b[0mself\u001b[0m\u001b[1;33m.\u001b[0m\u001b[0m_engine\u001b[0m\u001b[1;33m.\u001b[0m\u001b[0mget_loc\u001b[0m\u001b[1;33m(\u001b[0m\u001b[0mkey\u001b[0m\u001b[1;33m)\u001b[0m\u001b[1;33m\u001b[0m\u001b[1;33m\u001b[0m\u001b[0m\n\u001b[0m\u001b[0;32m   2898\u001b[0m             \u001b[1;32mexcept\u001b[0m \u001b[0mKeyError\u001b[0m\u001b[1;33m:\u001b[0m\u001b[1;33m\u001b[0m\u001b[1;33m\u001b[0m\u001b[0m\n",
      "\u001b[1;32mpandas\\_libs\\index.pyx\u001b[0m in \u001b[0;36mpandas._libs.index.IndexEngine.get_loc\u001b[1;34m()\u001b[0m\n",
      "\u001b[1;32mpandas\\_libs\\index.pyx\u001b[0m in \u001b[0;36mpandas._libs.index.IndexEngine.get_loc\u001b[1;34m()\u001b[0m\n",
      "\u001b[1;32mpandas\\_libs\\hashtable_class_helper.pxi\u001b[0m in \u001b[0;36mpandas._libs.hashtable.PyObjectHashTable.get_item\u001b[1;34m()\u001b[0m\n",
      "\u001b[1;32mpandas\\_libs\\hashtable_class_helper.pxi\u001b[0m in \u001b[0;36mpandas._libs.hashtable.PyObjectHashTable.get_item\u001b[1;34m()\u001b[0m\n",
      "\u001b[1;31mKeyError\u001b[0m: 'precipitation'",
      "\nDuring handling of the above exception, another exception occurred:\n",
      "\u001b[1;31mKeyError\u001b[0m                                  Traceback (most recent call last)",
      "\u001b[1;32m<ipython-input-89-e27cad0fab87>\u001b[0m in \u001b[0;36m<module>\u001b[1;34m\u001b[0m\n\u001b[0;32m      1\u001b[0m \u001b[1;31m#################################\u001b[0m\u001b[1;33m\u001b[0m\u001b[1;33m\u001b[0m\u001b[1;33m\u001b[0m\u001b[0m\n\u001b[1;32m----> 2\u001b[1;33m \u001b[0mdf\u001b[0m\u001b[1;33m[\u001b[0m\u001b[1;34m'heavy rain'\u001b[0m\u001b[1;33m]\u001b[0m \u001b[1;33m=\u001b[0m \u001b[1;33m[\u001b[0m\u001b[1;36m0\u001b[0m \u001b[1;32mif\u001b[0m \u001b[0mx\u001b[0m \u001b[1;33m<\u001b[0m \u001b[1;36m1\u001b[0m \u001b[1;32melse\u001b[0m \u001b[1;36m1\u001b[0m \u001b[1;32mfor\u001b[0m \u001b[0mx\u001b[0m \u001b[1;32min\u001b[0m \u001b[0mdf\u001b[0m\u001b[1;33m[\u001b[0m\u001b[1;34m'precipitation'\u001b[0m\u001b[1;33m]\u001b[0m\u001b[1;33m]\u001b[0m\u001b[1;33m\u001b[0m\u001b[1;33m\u001b[0m\u001b[0m\n\u001b[0m\u001b[0;32m      3\u001b[0m new_df = df.drop(['temp', 'pressure', 'relative humidity', 'wind speed',\n\u001b[0;32m      4\u001b[0m        \u001b[1;34m'precipitation'\u001b[0m\u001b[1;33m,\u001b[0m \u001b[1;34m'PV production'\u001b[0m\u001b[1;33m,\u001b[0m \u001b[1;34m'diffuse radiation, tilt'\u001b[0m\u001b[1;33m,\u001b[0m\u001b[1;33m\u001b[0m\u001b[1;33m\u001b[0m\u001b[0m\n\u001b[0;32m      5\u001b[0m        'solar azimuth'], axis=1)\n",
      "\u001b[1;32m~\\Anaconda3\\lib\\site-packages\\pandas\\core\\frame.py\u001b[0m in \u001b[0;36m__getitem__\u001b[1;34m(self, key)\u001b[0m\n\u001b[0;32m   2978\u001b[0m             \u001b[1;32mif\u001b[0m \u001b[0mself\u001b[0m\u001b[1;33m.\u001b[0m\u001b[0mcolumns\u001b[0m\u001b[1;33m.\u001b[0m\u001b[0mnlevels\u001b[0m \u001b[1;33m>\u001b[0m \u001b[1;36m1\u001b[0m\u001b[1;33m:\u001b[0m\u001b[1;33m\u001b[0m\u001b[1;33m\u001b[0m\u001b[0m\n\u001b[0;32m   2979\u001b[0m                 \u001b[1;32mreturn\u001b[0m \u001b[0mself\u001b[0m\u001b[1;33m.\u001b[0m\u001b[0m_getitem_multilevel\u001b[0m\u001b[1;33m(\u001b[0m\u001b[0mkey\u001b[0m\u001b[1;33m)\u001b[0m\u001b[1;33m\u001b[0m\u001b[1;33m\u001b[0m\u001b[0m\n\u001b[1;32m-> 2980\u001b[1;33m             \u001b[0mindexer\u001b[0m \u001b[1;33m=\u001b[0m \u001b[0mself\u001b[0m\u001b[1;33m.\u001b[0m\u001b[0mcolumns\u001b[0m\u001b[1;33m.\u001b[0m\u001b[0mget_loc\u001b[0m\u001b[1;33m(\u001b[0m\u001b[0mkey\u001b[0m\u001b[1;33m)\u001b[0m\u001b[1;33m\u001b[0m\u001b[1;33m\u001b[0m\u001b[0m\n\u001b[0m\u001b[0;32m   2981\u001b[0m             \u001b[1;32mif\u001b[0m \u001b[0mis_integer\u001b[0m\u001b[1;33m(\u001b[0m\u001b[0mindexer\u001b[0m\u001b[1;33m)\u001b[0m\u001b[1;33m:\u001b[0m\u001b[1;33m\u001b[0m\u001b[1;33m\u001b[0m\u001b[0m\n\u001b[0;32m   2982\u001b[0m                 \u001b[0mindexer\u001b[0m \u001b[1;33m=\u001b[0m \u001b[1;33m[\u001b[0m\u001b[0mindexer\u001b[0m\u001b[1;33m]\u001b[0m\u001b[1;33m\u001b[0m\u001b[1;33m\u001b[0m\u001b[0m\n",
      "\u001b[1;32m~\\Anaconda3\\lib\\site-packages\\pandas\\core\\indexes\\base.py\u001b[0m in \u001b[0;36mget_loc\u001b[1;34m(self, key, method, tolerance)\u001b[0m\n\u001b[0;32m   2897\u001b[0m                 \u001b[1;32mreturn\u001b[0m \u001b[0mself\u001b[0m\u001b[1;33m.\u001b[0m\u001b[0m_engine\u001b[0m\u001b[1;33m.\u001b[0m\u001b[0mget_loc\u001b[0m\u001b[1;33m(\u001b[0m\u001b[0mkey\u001b[0m\u001b[1;33m)\u001b[0m\u001b[1;33m\u001b[0m\u001b[1;33m\u001b[0m\u001b[0m\n\u001b[0;32m   2898\u001b[0m             \u001b[1;32mexcept\u001b[0m \u001b[0mKeyError\u001b[0m\u001b[1;33m:\u001b[0m\u001b[1;33m\u001b[0m\u001b[1;33m\u001b[0m\u001b[0m\n\u001b[1;32m-> 2899\u001b[1;33m                 \u001b[1;32mreturn\u001b[0m \u001b[0mself\u001b[0m\u001b[1;33m.\u001b[0m\u001b[0m_engine\u001b[0m\u001b[1;33m.\u001b[0m\u001b[0mget_loc\u001b[0m\u001b[1;33m(\u001b[0m\u001b[0mself\u001b[0m\u001b[1;33m.\u001b[0m\u001b[0m_maybe_cast_indexer\u001b[0m\u001b[1;33m(\u001b[0m\u001b[0mkey\u001b[0m\u001b[1;33m)\u001b[0m\u001b[1;33m)\u001b[0m\u001b[1;33m\u001b[0m\u001b[1;33m\u001b[0m\u001b[0m\n\u001b[0m\u001b[0;32m   2900\u001b[0m         \u001b[0mindexer\u001b[0m \u001b[1;33m=\u001b[0m \u001b[0mself\u001b[0m\u001b[1;33m.\u001b[0m\u001b[0mget_indexer\u001b[0m\u001b[1;33m(\u001b[0m\u001b[1;33m[\u001b[0m\u001b[0mkey\u001b[0m\u001b[1;33m]\u001b[0m\u001b[1;33m,\u001b[0m \u001b[0mmethod\u001b[0m\u001b[1;33m=\u001b[0m\u001b[0mmethod\u001b[0m\u001b[1;33m,\u001b[0m \u001b[0mtolerance\u001b[0m\u001b[1;33m=\u001b[0m\u001b[0mtolerance\u001b[0m\u001b[1;33m)\u001b[0m\u001b[1;33m\u001b[0m\u001b[1;33m\u001b[0m\u001b[0m\n\u001b[0;32m   2901\u001b[0m         \u001b[1;32mif\u001b[0m \u001b[0mindexer\u001b[0m\u001b[1;33m.\u001b[0m\u001b[0mndim\u001b[0m \u001b[1;33m>\u001b[0m \u001b[1;36m1\u001b[0m \u001b[1;32mor\u001b[0m \u001b[0mindexer\u001b[0m\u001b[1;33m.\u001b[0m\u001b[0msize\u001b[0m \u001b[1;33m>\u001b[0m \u001b[1;36m1\u001b[0m\u001b[1;33m:\u001b[0m\u001b[1;33m\u001b[0m\u001b[1;33m\u001b[0m\u001b[0m\n",
      "\u001b[1;32mpandas\\_libs\\index.pyx\u001b[0m in \u001b[0;36mpandas._libs.index.IndexEngine.get_loc\u001b[1;34m()\u001b[0m\n",
      "\u001b[1;32mpandas\\_libs\\index.pyx\u001b[0m in \u001b[0;36mpandas._libs.index.IndexEngine.get_loc\u001b[1;34m()\u001b[0m\n",
      "\u001b[1;32mpandas\\_libs\\hashtable_class_helper.pxi\u001b[0m in \u001b[0;36mpandas._libs.hashtable.PyObjectHashTable.get_item\u001b[1;34m()\u001b[0m\n",
      "\u001b[1;32mpandas\\_libs\\hashtable_class_helper.pxi\u001b[0m in \u001b[0;36mpandas._libs.hashtable.PyObjectHashTable.get_item\u001b[1;34m()\u001b[0m\n",
      "\u001b[1;31mKeyError\u001b[0m: 'precipitation'"
     ]
    }
   ],
   "source": [
    "#################################\n",
    "df['heavy rain'] = [0 if x < 1 else 1 for x in df['precipitation']]\n",
    "new_df = df.drop(['temp', 'pressure', 'relative humidity', 'wind speed',\n",
    "       'precipitation', 'PV production', 'diffuse radiation, tilt',\n",
    "       'solar azimuth'], axis=1)\n",
    "corr = new_df.corr()\n",
    "print(corr)\n",
    "\n",
    "sns.heatmap(corr, xticklabels= corr.columns, yticklabels = corr.columns)\n",
    "\n",
    "new_df.plot(kind='scatter',x='cloud cover',y='heavy rain',color='blue')\n",
    "plt.show()\n",
    "#################################"
   ]
  },
  {
   "cell_type": "markdown",
   "metadata": {},
   "source": [
    "## TASK III.2 - INFERENCE"
   ]
  },
  {
   "cell_type": "markdown",
   "metadata": {},
   "source": [
    "**i. Let’s now assume that we want to predict the photovoltaic production (PV production) using  multiple  linear  regression.  Explain  which  features  are  statistically  significant  in modelling the target variable.**"
   ]
  },
  {
   "cell_type": "code",
   "execution_count": 70,
   "metadata": {},
   "outputs": [],
   "source": [
    "#################################\n",
    "#Correlations are patterns in the data, which makes it possible to use the value of one variable to predict another variable.\n",
    "#Hence, if we want to predeict the photovoltaic production (PV production), we need to find features which are highly correlated\n",
    "#to PV production. Hence, we looked at the heatmap and found that the features, 'diffuse radiation, tilt' is the most\n",
    "#postitively correlated with the value over 0.6 and 'temp' is the second highest postive correlated (around 0.4). \n",
    "#Furthermore, 'relative humidity' is the highest negatively correlated to PV production with a correlation value more than -0.6. Therefore, the two features\n",
    "#It suggests that PV production is highly dependent to these features,hence the two features,'diffuse radiation, tilt' and \n",
    "#'relative humidity' are statistically significant to be used for predicting the PV production using linear regression.\n",
    "\n",
    "\n",
    "\n",
    "#################################"
   ]
  },
  {
   "cell_type": "markdown",
   "metadata": {},
   "source": [
    "**j. Create a multivariate model using the predictors chosen in the previous question.**"
   ]
  },
  {
   "cell_type": "code",
   "execution_count": 88,
   "metadata": {},
   "outputs": [
    {
     "name": "stdout",
     "output_type": "stream",
     "text": [
      "[ 1.22683789 -4.82227905 -1.30150193  1.00889558]\n",
      "407.91303995153\n",
      "                            OLS Regression Results                            \n",
      "==============================================================================\n",
      "Dep. Variable:          PV production   R-squared:                       0.670\n",
      "Model:                            OLS   Adj. R-squared:                  0.670\n",
      "Method:                 Least Squares   F-statistic:                     4446.\n",
      "Date:                Wed, 01 Apr 2020   Prob (F-statistic):               0.00\n",
      "Time:                        05:33:08   Log-Likelihood:                -54924.\n",
      "No. Observations:                8760   AIC:                         1.099e+05\n",
      "Df Residuals:                    8755   BIC:                         1.099e+05\n",
      "Df Model:                           4                                         \n",
      "Covariance Type:            nonrobust                                         \n",
      "===========================================================================================\n",
      "                              coef    std err          t      P>|t|      [0.025      0.975]\n",
      "-------------------------------------------------------------------------------------------\n",
      "const                     407.9130     13.071     31.207      0.000     382.291     433.535\n",
      "diffuse radiation, tilt     1.2268      0.015     81.238      0.000       1.197       1.256\n",
      "relative humidity          -4.8223      0.115    -41.852      0.000      -5.048      -4.596\n",
      "temp                       -1.3015      0.346     -3.758      0.000      -1.980      -0.623\n",
      "wind speed                  1.0089      0.576      1.752      0.080      -0.120       2.138\n",
      "==============================================================================\n",
      "Omnibus:                      978.524   Durbin-Watson:                   0.177\n",
      "Prob(Omnibus):                  0.000   Jarque-Bera (JB):             1468.377\n",
      "Skew:                           0.830   Prob(JB):                         0.00\n",
      "Kurtosis:                       4.127   Cond. No.                     1.24e+03\n",
      "==============================================================================\n",
      "\n",
      "Warnings:\n",
      "[1] Standard Errors assume that the covariance matrix of the errors is correctly specified.\n",
      "[2] The condition number is large, 1.24e+03. This might indicate that there are\n",
      "strong multicollinearity or other numerical problems.\n"
     ]
    },
    {
     "name": "stderr",
     "output_type": "stream",
     "text": [
      "C:\\Users\\edwardkim\\Anaconda3\\lib\\site-packages\\numpy\\core\\fromnumeric.py:2389: FutureWarning: Method .ptp is deprecated and will be removed in a future version. Use numpy.ptp instead.\n",
      "  return ptp(axis=axis, out=out, **kwargs)\n"
     ]
    },
    {
     "data": {
      "image/png": "[encoded data removed]",
      "text/plain": [
       "<Figure size 1080x864 with 1 Axes>"
      ]
     },
     "metadata": {
      "needs_background": "light"
     },
     "output_type": "display_data"
    }
   ],
   "source": [
    "#################################\n",
    "from sklearn import linear_model\n",
    "from sklearn.metrics import accuracy_score\n",
    "from sklearn.model_selection import train_test_split\n",
    "import statsmodels.api as sm\n",
    "\n",
    "data_x = data[['diffuse radiation, tilt', 'relative humidity','temp','wind speed']] #'diffuse radiation, tilt', 'relative humidity',\n",
    "data_y = data['PV production']\n",
    "\n",
    "#data_x, data_x2, data_y, data_y2 = train_test_split(data_x,data_y)\n",
    "regr = linear_model.LinearRegression()\n",
    "regr.fit(data_x,data_y)\n",
    "pv_pred= regr.predict(data_x)\n",
    "print(regr.coef_)\n",
    "print(regr.intercept_)\n",
    "\n",
    "X = sm.add_constant(data_x) # adding a constant\n",
    "model = sm.OLS(data_y, X).fit()\n",
    "predictions = model.predict(X) \n",
    " \n",
    "print_model = model.summary()\n",
    "print(print_model)\n",
    "\n",
    "df = pd.DataFrame({'Actual': data_y, 'Predicted': pv_pred, 'Difference': abs(pv_pred - data_y)})\n",
    "df1 = df.head(25)\n",
    "df1.plot(kind='bar',figsize=(15,12))\n",
    "plt.grid(which='major', linestyle='-', linewidth='0.5', color='black')\n",
    "plt.grid(which='minor', linestyle=':', linewidth='0.5', color='black')\n",
    "plt.show()\n",
    "#################################"
   ]
  },
  {
   "cell_type": "code",
   "execution_count": null,
   "metadata": {},
   "outputs": [],
   "source": []
  }
 ],
 "metadata": {
  "kernelspec": {
   "display_name": "Python 3",
   "language": "python",
   "name": "python3"
  },
  "language_info": {
   "codemirror_mode": {
    "name": "ipython",
    "version": 3
   },
   "file_extension": ".py",
   "mimetype": "text/x-python",
   "name": "python",
   "nbconvert_exporter": "python",
   "pygments_lexer": "ipython3",
   "version": "3.7.4"
  },
  "pycharm": {
   "stem_cell": {
    "cell_type": "raw",
    "metadata": {
     "collapsed": false
    },
    "source": []
   }
  }
 },
 "nbformat": 4,
 "nbformat_minor": 2
}
